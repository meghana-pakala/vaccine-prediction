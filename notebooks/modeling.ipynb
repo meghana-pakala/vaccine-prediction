{
 "cells": [
  {
   "cell_type": "markdown",
   "metadata": {},
   "source": [
    "# H1N1 and Seasonal Flu Vaccines"
   ]
  },
  {
   "cell_type": "code",
   "execution_count": null,
   "metadata": {},
   "outputs": [],
   "source": [
    "import pandas as pd\n",
    "import numpy as np\n",
    "import math\n",
    "\n",
    "import matplotlib.pyplot as plt\n",
    "%matplotlib inline\n",
    "import seaborn as sns\n",
    "\n",
    "\n",
    "from sklearn.model_selection import train_test_split, cross_val_score, cross_validate, GridSearchCV\n",
    "\n",
    "from sklearn.metrics import classification_report, accuracy_score, recall_score, precision_score, f1_score\n",
    "from sklearn.metrics import roc_auc_score, plot_roc_curve, confusion_matrix, plot_confusion_matrix\n",
    "\n",
    "from sklearn.pipeline import Pipeline\n",
    "from sklearn.preprocessing import StandardScaler\n",
    "from sklearn.impute import SimpleImputer\n",
    "from sklearn.compose import ColumnTransformer\n",
    "\n",
    "from sklearn.dummy import DummyClassifier\n",
    "from sklearn.tree import DecisionTreeClassifier\n",
    "from sklearn.ensemble import RandomForestClassifier\n",
    "#from sklearn.linear_model import LogisticRegression"
   ]
  },
  {
   "cell_type": "markdown",
   "metadata": {},
   "source": [
    "## Data Prep"
   ]
  },
  {
   "cell_type": "code",
   "execution_count": null,
   "metadata": {},
   "outputs": [],
   "source": [
    "# import data\n",
    "\n",
    "features_df = pd.read_csv(\"../data/Training_Features.csv\", index_col=\"respondent_id\")\n",
    "labels_df = pd.read_csv(\"../data/Training_Labels.csv\", index_col=\"respondent_id\")\n",
    "df = features_df.join(labels_df)"
   ]
  },
  {
   "cell_type": "code",
   "execution_count": null,
   "metadata": {},
   "outputs": [],
   "source": [
    "# define columns to drop before training\n",
    "\n",
    "cols_to_drop = [\n",
    "    # high nulls\n",
    "    'health_insurance',\n",
    "    # demographics\n",
    "    'age_group',\n",
    "    'education',\n",
    "    'race',\n",
    "    'sex',\n",
    "    'marital_status',\n",
    "    'employment_status',\n",
    "    'employment_industry',\n",
    "    'employment_occupation',\n",
    "    'income_poverty',\n",
    "    'rent_or_own',\n",
    "    'hhs_geo_region',\n",
    "    'census_msa',\n",
    "    'household_adults',\n",
    "    'household_children',\n",
    "    # targets\n",
    "    'h1n1_vaccine',\n",
    "    'seasonal_vaccine'\n",
    "]\n"
   ]
  },
  {
   "cell_type": "code",
   "execution_count": null,
   "metadata": {},
   "outputs": [],
   "source": [
    "# define X and y \n",
    "X = df.drop(columns= cols_to_drop)\n",
    "y = df['h1n1_vaccine']\n",
    "\n",
    "# train test split\n",
    "X_train, X_test, y_train, y_test = train_test_split(X, y, test_size=0.2, random_state=42, stratify=y)"
   ]
  },
  {
   "cell_type": "code",
   "execution_count": null,
   "metadata": {},
   "outputs": [],
   "source": [
    "num_cols = X.columns[X.dtypes != 'object'].to_list()\n",
    "cat_cols = X.columns[X.dtypes == 'object'].to_list()"
   ]
  },
  {
   "cell_type": "markdown",
   "metadata": {},
   "source": [
    "### Preprocessing"
   ]
  },
  {
   "cell_type": "code",
   "execution_count": null,
   "metadata": {},
   "outputs": [],
   "source": [
    "# impute and scale\n",
    "\n",
    "num_transformer = Pipeline([\n",
    "    ('imputer', SimpleImputer(strategy='median')),\n",
    "    ('scaler', StandardScaler()),\n",
    "])\n",
    "\n",
    "# cat_transformer = Pipeline([  ])\n",
    "# if you don't drop demo columns before training, add transformer to one-hot-encode categorical variables\n"
   ]
  },
  {
   "cell_type": "code",
   "execution_count": null,
   "metadata": {},
   "outputs": [],
   "source": [
    "preprocessor = ColumnTransformer(\n",
    "    transformers =[\n",
    "        (\"numeric_transformer\", num_transformer, num_cols)\n",
    "        # (\"categorical_transformer\", cat_transformer, cat_cols)\n",
    "        ])"
   ]
  },
  {
   "cell_type": "markdown",
   "metadata": {},
   "source": [
    "## Dummy Model"
   ]
  },
  {
   "cell_type": "markdown",
   "metadata": {},
   "source": [
    "accuracy score - 79%"
   ]
  },
  {
   "cell_type": "code",
   "execution_count": null,
   "metadata": {},
   "outputs": [],
   "source": [
    "dummy = DummyClassifier(strategy='most_frequent')\n",
    "dummy.fit(X_train, y_train)\n",
    "dummy.score(X_train, y_train)"
   ]
  },
  {
   "cell_type": "code",
   "execution_count": null,
   "metadata": {},
   "outputs": [],
   "source": [
    "y_pred_dummy = dummy.predict(X_test)\n",
    "accuracy_score(y_test, y_pred_dummy)"
   ]
  },
  {
   "cell_type": "code",
   "execution_count": null,
   "metadata": {},
   "outputs": [],
   "source": [
    "dummy_a = cross_val_score(dummy, X_train, y_train, scoring='accuracy').mean()"
   ]
  },
  {
   "cell_type": "markdown",
   "metadata": {},
   "source": [
    "## Decision Tree"
   ]
  },
  {
   "cell_type": "code",
   "execution_count": null,
   "metadata": {},
   "outputs": [],
   "source": [
    "dt = DecisionTreeClassifier(random_state=42)"
   ]
  },
  {
   "cell_type": "code",
   "execution_count": null,
   "metadata": {},
   "outputs": [],
   "source": [
    "dt_untuned = Pipeline(steps=[\n",
    "    ('preprocessor', preprocessor),\n",
    "    ('classifier', dt)\n",
    "])"
   ]
  },
  {
   "cell_type": "code",
   "execution_count": null,
   "metadata": {},
   "outputs": [],
   "source": [
    "cross_validate(dt_untuned, X_train, y_train, return_train_score=True, scoring=['accuracy', 'precision'])"
   ]
  },
  {
   "cell_type": "code",
   "execution_count": null,
   "metadata": {},
   "outputs": [],
   "source": [
    "dt1_a = cross_val_score(dt_untuned, X_train, y_train, scoring='accuracy').mean()\n",
    "dt1_p = cross_val_score(dt_untuned, X_train, y_train, scoring='precision').mean()"
   ]
  },
  {
   "cell_type": "markdown",
   "metadata": {},
   "source": [
    "### Grid Search"
   ]
  },
  {
   "cell_type": "code",
   "execution_count": null,
   "metadata": {},
   "outputs": [],
   "source": [
    "# first run\n",
    "\n",
    "dt_param_grid = {\n",
    "    \"classifier__class_weight\": ['balanced', None],\n",
    "    \"classifier__max_depth\": [2, 5, 15],\n",
    "    \"classifier__min_samples_leaf\": [10, 15, 20],\n",
    "    \"classifier__min_samples_split\": [2, 5, 7],\n",
    "}"
   ]
  },
  {
   "cell_type": "code",
   "execution_count": null,
   "metadata": {},
   "outputs": [],
   "source": [
    "# second run\n",
    "\n",
    "dt_param_grid = {\n",
    "    \"classifier__class_weight\": ['balanced', None],\n",
    "    \"classifier__max_depth\": [2, 5, 8, 13],\n",
    "    \"classifier__min_samples_leaf\": [8, 10, 14],\n",
    "    \"classifier__min_samples_split\": [2, 5, 10],\n",
    "}"
   ]
  },
  {
   "cell_type": "code",
   "execution_count": null,
   "metadata": {},
   "outputs": [],
   "source": [
    "# third run \n",
    "\n",
    "dt_param_grid = {\n",
    "    \"classifier__class_weight\": ['balanced', None],\n",
    "    \"classifier__max_depth\": [2, 3, 4],\n",
    "    \"classifier__min_samples_leaf\": [5, 7, 9],\n",
    "    \"classifier__min_samples_split\": [2, 4, 6],\n",
    "}"
   ]
  },
  {
   "cell_type": "code",
   "execution_count": null,
   "metadata": {},
   "outputs": [],
   "source": [
    "dt_grid = GridSearchCV(dt_clf, dt_param_grid, scoring=\"precision\")\n",
    "dt_grid.fit(X_train, y_train)\n",
    "dt_grid.best_params_"
   ]
  },
  {
   "cell_type": "markdown",
   "metadata": {},
   "source": [
    "### Tuned"
   ]
  },
  {
   "cell_type": "code",
   "execution_count": null,
   "metadata": {},
   "outputs": [],
   "source": [
    "dt2 = DecisionTreeClassifier(\n",
    "    random_state=42,\n",
    "    class_weight=None,\n",
    "    max_depth=2,\n",
    "    min_samples_leaf=5,\n",
    "    min_samples_split=2\n",
    ")"
   ]
  },
  {
   "cell_type": "code",
   "execution_count": null,
   "metadata": {},
   "outputs": [],
   "source": [
    "dt_tuned = Pipeline(steps=[\n",
    "    ('preprocessor', preprocessor),\n",
    "    ('classifier', dt2)\n",
    "])"
   ]
  },
  {
   "cell_type": "code",
   "execution_count": null,
   "metadata": {},
   "outputs": [],
   "source": [
    "cross_validate(dt_tuned, X_train, y_train, return_train_score=True, scoring=['accuracy', 'precision'])"
   ]
  },
  {
   "cell_type": "code",
   "execution_count": null,
   "metadata": {},
   "outputs": [],
   "source": [
    "dt2_a = cross_val_score(dt_tuned, X_train, y_train, scoring='accuracy').mean()\n",
    "dt2_p = cross_val_score(dt_tuned, X_train, y_train, scoring='precision').mean()"
   ]
  },
  {
   "cell_type": "markdown",
   "metadata": {},
   "source": [
    "## Random Forest"
   ]
  },
  {
   "cell_type": "code",
   "execution_count": null,
   "metadata": {},
   "outputs": [],
   "source": [
    "rf = RandomForestClassifier(random_state=42)"
   ]
  },
  {
   "cell_type": "code",
   "execution_count": null,
   "metadata": {},
   "outputs": [],
   "source": [
    "rf_untuned = Pipeline(steps=[\n",
    "    ('preprocessor', preprocessor),\n",
    "    ('classifier', rf)\n",
    "])"
   ]
  },
  {
   "cell_type": "code",
   "execution_count": null,
   "metadata": {},
   "outputs": [],
   "source": [
    "cross_validate(rf_untuned, X_train, y_train, return_train_score=True, scoring=['accuracy', 'precision'])"
   ]
  },
  {
   "cell_type": "code",
   "execution_count": null,
   "metadata": {},
   "outputs": [],
   "source": [
    "rf1_a = cross_val_score(rf_untuned, X_train, y_train, scoring='accuracy').mean()\n",
    "rf1_p = cross_val_score(rf_untuned, X_train, y_train, scoring='precision').mean()"
   ]
  },
  {
   "cell_type": "markdown",
   "metadata": {},
   "source": [
    "### Grid Search"
   ]
  },
  {
   "cell_type": "code",
   "execution_count": null,
   "metadata": {},
   "outputs": [],
   "source": [
    "# first run - 13 min\n",
    "\n",
    "param_grid = {\n",
    "    \"classifier__class_weight\": ['balanced', None], # none\n",
    "    \"classifier__max_depth\": [2, 5, 8, 13], # 13\n",
    "    \"classifier__min_samples_leaf\": [8, 10, 14], # 8\n",
    "    \"classifier__min_samples_split\": [2, 5, 10],# 2\n",
    "    \"classifier__n_estimators\": [100, 200, 300] # 200\n",
    "}"
   ]
  },
  {
   "cell_type": "code",
   "execution_count": null,
   "metadata": {},
   "outputs": [],
   "source": [
    "# second run - 14 min\n",
    "\n",
    "rf_param_grid = {\n",
    "    \"classifier__class_weight\": ['balanced', None], # none\n",
    "    \"classifier__max_depth\": [8, 13, 17], # 8\n",
    "    \"classifier__min_samples_leaf\": [5, 8, 11], # 8\n",
    "    \"classifier__min_samples_split\": [2, 4, 6], # 2\n",
    "    \"classifier__n_estimators\": [150, 200, 250] # 200\n",
    "}"
   ]
  },
  {
   "cell_type": "code",
   "execution_count": null,
   "metadata": {},
   "outputs": [],
   "source": [
    "grid = GridSearchCV(rf_untuned, rf_param_grid, scoring=\"precision\")\n",
    "grid.fit(X_train, y_train)\n",
    "grid.best_params_"
   ]
  },
  {
   "cell_type": "markdown",
   "metadata": {},
   "source": [
    "### Tuned"
   ]
  },
  {
   "cell_type": "code",
   "execution_count": null,
   "metadata": {},
   "outputs": [],
   "source": [
    "rf2 = RandomForestClassifier(\n",
    "    random_state=42,\n",
    "    class_weight=None,\n",
    "    max_depth=8,\n",
    "    min_samples_leaf=8,\n",
    "    min_samples_split=2,\n",
    "    n_estimators=200\n",
    "    )"
   ]
  },
  {
   "cell_type": "code",
   "execution_count": null,
   "metadata": {},
   "outputs": [],
   "source": [
    "rf_tuned = Pipeline(steps=[\n",
    "    ('preprocessor', preprocessor),\n",
    "    ('classifier', rf2)\n",
    "])"
   ]
  },
  {
   "cell_type": "code",
   "execution_count": null,
   "metadata": {},
   "outputs": [],
   "source": [
    "cross_validate(rf_tuned, X_train, y_train, return_train_score=True, scoring=['accuracy', 'precision'])"
   ]
  },
  {
   "cell_type": "code",
   "execution_count": null,
   "metadata": {},
   "outputs": [],
   "source": [
    "rf2_a = cross_val_score(rf_tuned, X_train, y_train, scoring='accuracy').mean()\n",
    "rf2_p = cross_val_score(rf_tuned, X_train, y_train, scoring='precision').mean()"
   ]
  },
  {
   "cell_type": "markdown",
   "metadata": {},
   "source": [
    "## Final Model"
   ]
  },
  {
   "cell_type": "code",
   "execution_count": null,
   "metadata": {},
   "outputs": [],
   "source": [
    "final = rf_tuned"
   ]
  },
  {
   "cell_type": "code",
   "execution_count": null,
   "metadata": {},
   "outputs": [],
   "source": [
    "final.fit(X_train, y_train)\n",
    "y_pred_final = final.predict(X_test)\n",
    "print(\"Accuracy:\", accuracy_score(y_test, y_pred_final)*100)\n",
    "print(\"Precision:\", precision_score(y_test, y_pred_final)*100)"
   ]
  },
  {
   "cell_type": "code",
   "execution_count": null,
   "metadata": {},
   "outputs": [],
   "source": [
    "models = ['Dummy', 'Decision Tree', 'Decision Tree (Tuned)', 'Random Forest', 'Random Forest (Tuned)']\n",
    "accuracy_scores = [dummy_a, dt1_a, dt2_a, rf1_a, rf2_a]\n",
    "precision_scores = [0, dt1_p, dt2_p, rf1_p, rf2_p]\n",
    "\n",
    "fig, ax = plt.subplots(figsize=(10, 6))\n",
    "\n",
    "bar_width = 0.3\n",
    "\n",
    "bar_positions1 = np.arange(len(models))\n",
    "bar_positions2 = bar_positions1 + bar_width\n",
    "\n",
    "ax.bar(bar_positions1, accuracy_scores, bar_width, label='Accuracy')\n",
    "ax.bar(bar_positions2, precision_scores, bar_width, label='Precision')\n",
    "\n",
    "ax.set_title('Model Performance')\n",
    "ax.set_xticks(bar_positions1 + bar_width / 2)\n",
    "ax.set_xticklabels(models)\n",
    "ax.legend();\n"
   ]
  },
  {
   "cell_type": "code",
   "execution_count": null,
   "metadata": {},
   "outputs": [],
   "source": [
    "cm = confusion_matrix(y_test, y_pred_final)\n",
    "cm_percent = cm / np.sum(cm) * 100\n",
    "\n",
    "# Plot heatmap for final model's confusion matrix for better visualization \n",
    "fig, ax = plt.subplots(figsize=(8,7))\n",
    "sns.heatmap(cm_percent, annot=True, fmt=\".2f\", cbar=False, cmap=\"Blues\");  \n",
    "\n",
    "ax.set_xlabel(\"Predicted\")\n",
    "ax.set_ylabel(\"Actual\")\n",
    "ax.xaxis.set_ticklabels(['Not Vaxxed', 'Vaxxed'])\n",
    "ax.yaxis.set_ticklabels(['Not Vaxxed', 'Vaxxed'], rotation = 0);"
   ]
  },
  {
   "cell_type": "code",
   "execution_count": null,
   "metadata": {},
   "outputs": [],
   "source": []
  }
 ],
 "metadata": {
  "kernelspec": {
   "display_name": "learn-env",
   "language": "python",
   "name": "python3"
  },
  "language_info": {
   "codemirror_mode": {
    "name": "ipython",
    "version": 3
   },
   "file_extension": ".py",
   "mimetype": "text/x-python",
   "name": "python",
   "nbconvert_exporter": "python",
   "pygments_lexer": "ipython3",
   "version": "3.8.5"
  }
 },
 "nbformat": 4,
 "nbformat_minor": 2
}
