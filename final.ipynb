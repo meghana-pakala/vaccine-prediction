{
 "cells": [
  {
   "cell_type": "markdown",
   "metadata": {},
   "source": [
    "# H1N1 and Seasonal Flu Vaccines"
   ]
  },
  {
   "cell_type": "markdown",
   "metadata": {},
   "source": [
    "## Business Understanding"
   ]
  },
  {
   "cell_type": "markdown",
   "metadata": {},
   "source": [
    "The COVID-19 pandemic reshaped our understanding of how society responds to a common crisis and recentered the conversation around public health. In order to provide guidance for future public health efforts, this analysis revisits the 2009 public health response to the H1N1 influenza virus and attempts to understand how people’s backgrounds, opinions, and health behaviors are related to their personal vaccination pattern.\n",
    "\n",
    "**H1N1**\n",
    "\n",
    "Beginning in spring 2009, a pandemic caused by the H1N1 influenza virus, colloquially named \"swine flu,\" swept across the world. Researchers estimate that in the first year, it was responsible for between 151K - 575K deaths globally. A vaccine for the H1N1 flu virus became publicly available in October 2009.\n",
    "\n",
    "In late 2009 and early 2010, the United States conducted the National 2009 H1N1 Flu Survey. This phone survey asked respondents whether they had received the H1N1 and seasonal flu vaccines, in conjunction with questions about themselves. These additional questions covered their social, economic, and demographic background, opinions on risks of illness and vaccine effectiveness, and behaviors towards mitigating transmission. \n",
    "\n",
    "\n"
   ]
  },
  {
   "cell_type": "markdown",
   "metadata": {},
   "source": [
    "***ROADMAP NOTES***\n",
    "\n",
    "- Targets\n",
    "    - h1n1_vaccine - whether respondent received H1N1 flu vaccine\n",
    "    - seasonal_vaccine - whether respondent received seasonal flu vaccine\n",
    "    \n",
    "- Classes - Binary\n",
    "    - 0 = No\n",
    "    - 1 = Yes\n",
    "\n",
    "- Is there a class imbalance? If so might need to consider certain techniques\n",
    "    - Either SMOTE or class_weight maybe\n",
    "\n",
    "- Determine the business context/problem for stakeholder\n",
    "    - How is your model helping to address/solve the problem?\n",
    "\n",
    "- Determine which evaulation metric/metrics are most important\n",
    "    - THIS IS BIG\n",
    "    - Think in terms of cost matrix, fp vs fn etc."
   ]
  },
  {
   "cell_type": "markdown",
   "metadata": {},
   "source": [
    "## Data Understanding"
   ]
  },
  {
   "cell_type": "markdown",
   "metadata": {},
   "source": [
    "***ROADMAP NOTES***\n",
    "\n",
    "- Basic summary info, .describe, null or missing values, column types\n",
    "\n",
    "- What features are relevant for your model/analysis and why? \n",
    "\n",
    "- Relationships with target\n",
    "\n",
    "- Exploratory visuals, correlations, pairplots, heatmaps, histograms etc…\n",
    "\n",
    "- Determine how you will handle null values\n",
    "    - Impute values, drop rows or columns etc…\n",
    "    - Take a look at the different types/strategies of imputers (KNNI is powerful but slow)\n",
    "\n",
    "- Determine how you will handle categorical variables\n",
    "    - Binary?\n",
    "    - Ordinal or One-Hot encode?\n",
    "\n",
    "- Will you need to scale the numeric data?\n",
    "\n"
   ]
  },
  {
   "cell_type": "markdown",
   "metadata": {},
   "source": [
    "## Data Preparation"
   ]
  },
  {
   "cell_type": "markdown",
   "metadata": {},
   "source": [
    "***ROADMAP NOTES***\n",
    "\n",
    "1. Develop ColumnTransformer → data preprocessing pipeline based on EDA above\n",
    "- Sub-pipes for numeric and categorical columns\n",
    "    - As many as you need if treating some columns differently\n",
    "    - Keep in mind things like handle_unknown = ‘ignore’\n",
    "- Create one pipeline with numeric scaling, another without if needed\n",
    "- Test your column transformer\n",
    "    - Fit_transform train data\n",
    "    - Transform test data\n",
    "    - Should have the same number of columns after transformation"
   ]
  },
  {
   "cell_type": "markdown",
   "metadata": {},
   "source": [
    "2. Determine an appropriate validation procedure\n",
    "- Highly recommended to cross_validate with a pipeline (best way)\n",
    "- train_test_split your data"
   ]
  },
  {
   "cell_type": "markdown",
   "metadata": {},
   "source": [
    "## Modeling\n"
   ]
  },
  {
   "cell_type": "markdown",
   "metadata": {},
   "source": [
    "Iterative Approach to Modeling\n",
    "\n",
    "- Begin with a basic model, evaluate it, and then provide justification for and proceed to a new model\n",
    "- After you finish refining your models, you should provide 1-3 paragraphs in the notebook discussing your final model.\n",
    "\n",
    "With the additional techniques you have learned in Phase 3, be sure to explore:\n",
    "1. Model features and preprocessing approaches\n",
    "2. Different kinds of models (logistic regression, decision trees, etc.)\n",
    "3. Different model hyperparameters\n",
    "\n",
    "At minimum you must build three models:\n",
    "- A dummy model for comparison using a simple strategy to predict\n",
    "- A simple, interpretable model (logistic regression or single decision tree)\n",
    "- A version of the simple model with tuned hyperparameters"
   ]
  },
  {
   "cell_type": "markdown",
   "metadata": {},
   "source": [
    "***ROADMAP NOTES***\n",
    "\n",
    "1. Pipeline using ColumnTransformer and model algorithm\n",
    "- Start with a DummyClassifier\n",
    "    - Evaluate based on chosen metric/metrics → need to beat this\n",
    "- Create and evaluate first simple model: Simple → Complex\n",
    "    - Start with defaults, logistic regression or decision tree based on your data\n",
    "    - Could try other algorithms if you want to explore a few rabbit holes\n",
    "- Iterate over previous models\n",
    "    - If overfit → reduce complexity, add regularization, prune tree\n",
    "    - If underfit → increase complexity, reduce regularization, add new/more features (feature engineering)\n",
    "    - Might require you to go back and adapt the pre-processing pipeline or tune hyperparameters"
   ]
  },
  {
   "cell_type": "markdown",
   "metadata": {},
   "source": [
    "2. Final Model → Thursday AM you should have a good idea here\n",
    "- Choose a final model based on validation scores of the chosen metric/metrics\n",
    "- Fit final model to training set\n",
    "- Evaluate the final model using your hold-out test set\n",
    "- Discuss final model in the context of your business problem and stakeholder\n",
    "    - Analyze your predictive power and results, where is the model doing good and where is it maybe not doing good (confusion matrix)\n",
    "    - This could include insights and recommendations from model\n",
    "        - Coefs (logreg)\n",
    "        - Feature importances (trees)\n",
    "\n"
   ]
  },
  {
   "cell_type": "markdown",
   "metadata": {},
   "source": [
    "\n",
    "***ROADMAP NOTES***\n",
    "Explanatory visuals for presentation\n",
    "- Back up any inference with visual\n",
    "- Show final model vs. others (esp. Dummy)\n",
    "- Spiced up confusion matrix, need to make sure its non-technical enough\n",
    "\n"
   ]
  },
  {
   "cell_type": "markdown",
   "metadata": {},
   "source": [
    "## Evaluation & Conclusion"
   ]
  },
  {
   "cell_type": "markdown",
   "metadata": {},
   "source": [
    "**Findings and Recommendations**\n",
    "\n",
    "A predictive finding might include:\n",
    "- How well your model is able to predict the target\n",
    "- What features are most important to your model\n",
    "\n",
    "A predictive recommendation might include:\n",
    "- The contexts/situations where the predictions made by your model would and would not be useful for your stakeholder and business problem\n",
    "- Suggestions for how the business might modify certain input variables to achieve certain target results"
   ]
  },
  {
   "cell_type": "markdown",
   "metadata": {},
   "source": [
    "**Classification Metrics**\n",
    "- You must choose appropriate classification metrics and use them to evaluate your models.\n",
    "- Choosing the right classification metrics is a key data science skill, and should be informed by data exploration and the business problem itself.\n",
    "- You must then use this metric to evaluate your model performance using both training and testing data."
   ]
  }
 ],
 "metadata": {
  "language_info": {
   "name": "python"
  }
 },
 "nbformat": 4,
 "nbformat_minor": 2
}
